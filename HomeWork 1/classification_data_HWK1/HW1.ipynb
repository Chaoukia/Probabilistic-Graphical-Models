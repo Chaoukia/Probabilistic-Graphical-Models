{
 "cells": [
  {
   "cell_type": "code",
   "execution_count": 1,
   "metadata": {},
   "outputs": [],
   "source": [
    "import numpy as np\n",
    "import matplotlib.pyplot as plt\n",
    "%matplotlib inline"
   ]
  },
  {
   "cell_type": "markdown",
   "metadata": {},
   "source": [
    "# Generative model LDA"
   ]
  },
  {
   "cell_type": "code",
   "execution_count": 27,
   "metadata": {},
   "outputs": [],
   "source": [
    "train_A = np.genfromtxt('classificationA.train')\n",
    "X_A = train_A[:, 0:2]\n",
    "y_A = train_A[:, 2]"
   ]
  },
  {
   "cell_type": "code",
   "execution_count": 12,
   "metadata": {},
   "outputs": [
    {
     "data": {
      "image/png": "[encoded data removed]",
      "text/plain": [
       "<matplotlib.figure.Figure at 0x5ac3fd0>"
      ]
     },
     "metadata": {
      "needs_background": "light"
     },
     "output_type": "display_data"
    }
   ],
   "source": [
    "plt.scatter(X_A[y_A == 0, 0], X_A[y_A == 0, 1])\n",
    "plt.scatter(X_A[y_A == 1, 0], X_A[y_A == 1, 1])\n",
    "plt.show()"
   ]
  },
  {
   "cell_type": "markdown",
   "metadata": {},
   "source": [
    "The data distribution $X|Y$ seems to follow a Gaussian distribution, from the plot $X|Y=0$ and $X|Y=1$ share approximate covariance matrices, which justifies using the Fisher assumption $\\Sigma_0 = \\Sigma_1 = \\Sigma$"
   ]
  },
  {
   "cell_type": "markdown",
   "metadata": {},
   "source": [
    "## MLE estimator"
   ]
  },
  {
   "cell_type": "markdown",
   "metadata": {},
   "source": [
    "Let's estimate the parameters $\\pi = p(Y=1)$, $(\\mu_0, \\mu_1, \\Sigma)$ the respective means and the shared covariance matrix of the Gaussians."
   ]
  },
  {
   "cell_type": "code",
   "execution_count": 36,
   "metadata": {},
   "outputs": [],
   "source": [
    "n = X_A.shape[0] # Number of observations\n",
    "\n",
    "sum_1 = np.sum(y_A) # Number of observations of class 1\n",
    "sum_0 = n - sum_1   # Number of observations of class 0\n",
    "\n",
    "pi = sum_1/n       # The estimated parameter pi\n",
    "mu_1 = np.dot(X_A.T, y_A)/sum_1\n",
    "mu_0 =np.dot(X_A.T, (1 - y_A))/sum_0\n",
    "Sigma_sample_1 = np.dot((X_A - mu_1).T, y_A[:,np.newaxis]*(X_A - mu_1))/sum_1\n",
    "Sigma_sample_0 = np.dot((X_A - mu_0).T, (1 - y_A)[:,np.newaxis]*(X_A - mu_1))/sum_0\n",
    "Sigma = (sum_1*Sigma_sample_1 + sum_0*Sigma_sample_0)/n\n",
    "Precision = np.linalg.inv(Sigma)"
   ]
  },
  {
   "cell_type": "markdown",
   "metadata": {},
   "source": [
    "Now We can compute the parameters $a$ and $b$ of :\n",
    "\\begin{equation}\n",
    "p(y=1|x) = \\sigma(a + b^Tx)\n",
    "\\end{equation}"
   ]
  },
  {
   "cell_type": "code",
   "execution_count": 37,
   "metadata": {},
   "outputs": [],
   "source": [
    "a = -(np.dot(mu_1.T, np.dot(Precision, mu_1)) - np.dot(mu_0.T, np.dot(Precision, mu_0)))/2 + np.log(pi/(1 - pi))\n",
    "b = np.dot(Precision, mu_1 - mu_0)"
   ]
  },
  {
   "cell_type": "markdown",
   "metadata": {},
   "source": [
    "Let's plot the line $p(Y = 1|x) = 0.5$ and see if it can separate the data to confirm the use of Fisher linear discriminant."
   ]
  },
  {
   "cell_type": "code",
   "execution_count": 39,
   "metadata": {},
   "outputs": [
    {
     "data": {
      "image/png": "[encoded data removed]",
      "text/plain": [
       "<matplotlib.figure.Figure at 0x655b6f0>"
      ]
     },
     "metadata": {
      "needs_background": "light"
     },
     "output_type": "display_data"
    }
   ],
   "source": [
    "plt.scatter(X_A[y_A == 0, 0], X_A[y_A == 0, 1])\n",
    "plt.scatter(X_A[y_A == 1, 0], X_A[y_A == 1, 1])\n",
    "plt.plot(X_A[:, 0], -a/b[1] - (b[0]/b[1])*X_A[:, 0])\n",
    "plt.show()"
   ]
  },
  {
   "cell_type": "markdown",
   "metadata": {},
   "source": [
    "We can clearly see that the line separates well the two classes."
   ]
  },
  {
   "cell_type": "code",
   "execution_count": null,
   "metadata": {},
   "outputs": [],
   "source": []
  },
  {
   "cell_type": "code",
   "execution_count": null,
   "metadata": {},
   "outputs": [],
   "source": []
  },
  {
   "cell_type": "code",
   "execution_count": null,
   "metadata": {},
   "outputs": [],
   "source": []
  },
  {
   "cell_type": "code",
   "execution_count": null,
   "metadata": {},
   "outputs": [],
   "source": []
  },
  {
   "cell_type": "code",
   "execution_count": null,
   "metadata": {},
   "outputs": [],
   "source": []
  }
 ],
 "metadata": {
  "kernelspec": {
   "display_name": "Python 3",
   "language": "python",
   "name": "python3"
  },
  "language_info": {
   "codemirror_mode": {
    "name": "ipython",
    "version": 3
   },
   "file_extension": ".py",
   "mimetype": "text/x-python",
   "name": "python",
   "nbconvert_exporter": "python",
   "pygments_lexer": "ipython3",
   "version": "3.6.6"
  }
 },
 "nbformat": 4,
 "nbformat_minor": 2
}
